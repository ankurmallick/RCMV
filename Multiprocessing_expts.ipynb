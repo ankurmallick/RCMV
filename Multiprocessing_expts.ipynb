{
 "cells": [
  {
   "cell_type": "code",
   "execution_count": 1,
   "metadata": {},
   "outputs": [],
   "source": [
    "import numpy as np\n",
    "import scipy.stats as st\n",
    "from multiprocessing import Pool\n",
    "import time\n",
    "import os\n",
    "import matplotlib.pyplot as plt\n",
    "from encoders import lt_enc, mds_enc, rep_enc\n",
    "from time_analytics import lt_ana, mds_ana, rep_ana, get_worker_info\n",
    "from decoders import lt_dec, mds_dec, rep_dec"
   ]
  },
  {
   "cell_type": "code",
   "execution_count": 2,
   "metadata": {},
   "outputs": [],
   "source": [
    "def worker_mult(worker_args):\n",
    "    \n",
    "    #Each worker computes worker_mat.dot(vect)\n",
    "    #Worker_rows contains the row indices of A_e sent to worker in worker_mat\n",
    "    #Returns list of [time,index,value] lists corresponding to each row-vector product\n",
    "    \n",
    "    worker_rows = worker_args[0]\n",
    "    worker_mat = worker_args[1]\n",
    "    pid = os.getpid()\n",
    "    np.random.seed(0)\n",
    "    vect = np.random.randint(2, size = worker_mat.shape[1])\n",
    "    sub_rows = worker_mat.shape[0]\n",
    "    worker_results = []\n",
    "    \n",
    "    start_time = time.process_time()\n",
    "    for row in range(sub_rows):\n",
    "        val = worker_mat[row].dot(vect)\n",
    "        ind = worker_rows[row]\n",
    "        t = time.process_time()\n",
    "        worker_results.append((t,ind,val))\n",
    "        \n",
    "    return pid, start_time, worker_results"
   ]
  },
  {
   "cell_type": "code",
   "execution_count": null,
   "metadata": {},
   "outputs": [],
   "source": [
    "def one_comp(scheme_time, scheme_comp):\n",
    "    \n",
    "    scheme = 'one'\n",
    "    \n",
    "    for _ in range(num_iters):\n",
    "\n",
    "        np.random.seed(0)\n",
    "        vect = np.random.randint(2, size = num_cols)\n",
    "        results = []\n",
    "        \n",
    "        start_time = time.process_time()\n",
    "        for row in range(num_rows):\n",
    "            val = A[row].dot(vect)\n",
    "            ind = row\n",
    "            t = time.process_time()\n",
    "            results.append((t,ind,val))\n",
    "        stop_time = results[-1][0] - start_time\n",
    "    \n",
    "    scheme_times[scheme].append(stop_time)\n",
    "    scheme_comps[scheme].append(num_rows)"
   ]
  },
  {
   "cell_type": "code",
   "execution_count": 3,
   "metadata": {},
   "outputs": [],
   "source": [
    "schemes_list = ['One','Unc','Rep','MDS','LT']"
   ]
  },
  {
   "cell_type": "code",
   "execution_count": 4,
   "metadata": {},
   "outputs": [],
   "source": [
    "num_workers = 100 #Number of process\n",
    "num_iters = 5 #Number of trials"
   ]
  },
  {
   "cell_type": "code",
   "execution_count": null,
   "metadata": {},
   "outputs": [],
   "source": [
    "#Input matrix dimensions\n",
    "num_rows = 10000 \n",
    "num_cols = 10000"
   ]
  },
  {
   "cell_type": "code",
   "execution_count": 5,
   "metadata": {},
   "outputs": [],
   "source": [
    "enc_params = {'Unc': 1, 'Rep': 2, 'MDS':int(num_workers/2), 'LT':2.0} #Encoder arguments (see encoders.py)\n",
    "encoders = {'Unc': rep_enc, 'Rep': rep_enc, 'MDS':mds_enc, 'LT':lt_enc}\n",
    "ana_params = {'Unc': 1, 'Rep': 2, 'MDS':int(num_workers/2), 'LT':11057} #Analyzer arguments (see time_analytics.py)\n",
    "analyzers = {'Unc': rep_ana, 'Rep': rep_ana, 'MDS':mds_ana, 'LT':lt_ana}\n",
    "decoders = {'Unc': rep_dec, 'Rep': rep_dec, 'MDS':mds_dec, 'LT':lt_dec}"
   ]
  },
  {
   "cell_type": "code",
   "execution_count": 6,
   "metadata": {},
   "outputs": [],
   "source": [
    "A = np.random.randint(256,size=(num_rows,num_cols)) - 128 #Input matrix"
   ]
  },
  {
   "cell_type": "code",
   "execution_count": 7,
   "metadata": {},
   "outputs": [],
   "source": [
    "#True Result\n",
    "np.random.seed(0)\n",
    "x = np.random.randint(2, size= num_cols)\n",
    "b = A.dot(x)"
   ]
  },
  {
   "cell_type": "code",
   "execution_count": null,
   "metadata": {},
   "outputs": [],
   "source": [
    "scheme_times = {'One': [], 'Unc': [], 'Rep': [], 'MDS':[], 'LT':[]}\n",
    "scheme_comps = {'One': [], 'Unc': [], 'Rep': [], 'MDS':[], 'LT':[]}"
   ]
  },
  {
   "cell_type": "code",
   "execution_count": 8,
   "metadata": {},
   "outputs": [
    {
     "name": "stdout",
     "output_type": "stream",
     "text": [
      "Unc\n",
      "Decoding Error = 0.0\n",
      "Decoding Error = 0.0\n",
      "Decoding Error = 0.0\n",
      "Decoding Error = 0.0\n",
      "Decoding Error = 0.0\n",
      "Rep\n",
      "Decoding Error = 0.0\n",
      "Decoding Error = 0.0\n",
      "Decoding Error = 0.0\n",
      "Decoding Error = 0.0\n",
      "Decoding Error = 0.0\n",
      "MDS\n",
      "Decoding Error = 2.1593526955619886e-17\n",
      "Decoding Error = 3.0702420982164017e-17\n",
      "Decoding Error = 7.912778593094967e-16\n",
      "Decoding Error = 2.0916163485195618e-17\n",
      "Decoding Error = 2.6611760330830604e-16\n",
      "LT\n",
      "Decoding Error = 0.0\n",
      "Decoding Error = 0.0\n",
      "Decoding Error = 0.0\n",
      "Decoding Error = 0.0\n",
      "Decoding Error = 0.0\n"
     ]
    }
   ],
   "source": [
    "for scheme in schemes_list:\n",
    "    \n",
    "    if scheme == 'One':\n",
    "        one_comp(scheme_times, scheme_comps)\n",
    "        continue\n",
    "    \n",
    "    print (scheme)\n",
    "    \n",
    "    #Generating Encoded Matrix and creating process pool\n",
    "    A_e, encmat = encoders[scheme](A,num_workers,enc_params[scheme])\n",
    "    worker_args_list = list(zip(np.split(np.arange(A_e.shape[0]),num_workers,0),np.split(A_e,num_workers,0)))\n",
    "    pool = Pool(num_workers)\n",
    "    \n",
    "    for _ in range(num_iters):\n",
    "        \n",
    "        #Mapping tasks to workers and collecting results\n",
    "        results = pool.map(worker_mult, worker_args_list)\n",
    "        worker_dict = {}\n",
    "        start_time = min([results[w][1] for w in range(num_workers)]) #Global start time\n",
    "        \n",
    "        for w in range(num_workers):\n",
    "            worker_dict[w] = []\n",
    "            for w_c in results[w][2]:\n",
    "                t = w_c[0] - start_time\n",
    "                ind = w_c[1]\n",
    "                val = w_c[2]\n",
    "                worker_dict[w].append((t,ind,val))\n",
    "                \n",
    "        #Processing results to generate decoder inputs and record latency and computations\n",
    "        b_e, decmat, stop_time = analyzers[scheme](worker_dict,encmat,ana_params[scheme])\n",
    "        scheme_times[scheme].append(stop_time)\n",
    "        worker_times, worker_comps = get_worker_info(worker_dict,stop_time)\n",
    "        scheme_comps[scheme].append(sum(worker_comps.values()))\n",
    "        \n",
    "        #Decoding matrix-vector product (b_d should be equal to b)\n",
    "        b_d = decoders[scheme](b_e,decmat)\n",
    "        if b_d is None:\n",
    "            print ('Decoding Failed')\n",
    "        else:\n",
    "            print ('Decoding Error = '+str(np.sum((b-b_d)**2)))\n",
    "    pool.close()"
   ]
  },
  {
   "cell_type": "code",
   "execution_count": 16,
   "metadata": {},
   "outputs": [
    {
     "data": {
      "image/png": "[encoded data removed]",
      "text/plain": [
       "<Figure size 432x288 with 1 Axes>"
      ]
     },
     "metadata": {
      "needs_background": "light"
     },
     "output_type": "display_data"
    }
   ],
   "source": [
    "plt.figure()\n",
    "for scheme in schemes_list:\n",
    "    time_arr = np.array(scheme_times[scheme])\n",
    "    time_avg = np.mean(time_arr)\n",
    "    time_std = np.std(time_arr)\n",
    "    plt.bar(scheme,time_avg,yerr=time_std)\n",
    "plt.ylabel('Average Latency')\n",
    "plt.show()"
   ]
  },
  {
   "cell_type": "markdown",
   "metadata": {},
   "source": [
    "**LT-Coded computing has the lowest average latency**"
   ]
  },
  {
   "cell_type": "code",
   "execution_count": 17,
   "metadata": {},
   "outputs": [
    {
     "data": {
      "image/png": "[encoded data removed]",
      "text/plain": [
       "<Figure size 432x288 with 1 Axes>"
      ]
     },
     "metadata": {
      "needs_background": "light"
     },
     "output_type": "display_data"
    }
   ],
   "source": [
    "plt.figure()\n",
    "for scheme in schemes_list:\n",
    "    comp_arr = np.array(scheme_comps[scheme])\n",
    "    comp_avg = np.mean(comp_arr)\n",
    "    comp_std = np.std(comp_arr)\n",
    "    plt.bar(scheme,comp_avg,yerr=comp_std)\n",
    "plt.ylabel('Computations')\n",
    "plt.show()"
   ]
  },
  {
   "cell_type": "markdown",
   "metadata": {},
   "source": [
    "**LT-Coded computing performs the fewest extra average computations over uncoded**"
   ]
  }
 ],
 "metadata": {
  "kernelspec": {
   "display_name": "Python 3",
   "language": "python",
   "name": "python3"
  },
  "language_info": {
   "codemirror_mode": {
    "name": "ipython",
    "version": 3
   },
   "file_extension": ".py",
   "mimetype": "text/x-python",
   "name": "python",
   "nbconvert_exporter": "python",
   "pygments_lexer": "ipython3",
   "version": "3.6.9"
  }
 },
 "nbformat": 4,
 "nbformat_minor": 4
}
